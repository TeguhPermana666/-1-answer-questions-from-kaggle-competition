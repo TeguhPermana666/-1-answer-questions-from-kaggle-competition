{
 "cells": [
  {
   "cell_type": "markdown",
   "metadata": {},
   "source": [
    "# Question 1\n",
    "Try a Support Vector Machine regressor (sklearn.svm.SVR) with various hyper‐\n",
    "parameters, such as kernel=\"linear\" (with various values for the C hyperpara‐\n",
    "meter) or kernel=\"rbf\" (with various values for the C and gamma\n",
    "hyperparameters). Don’t worry about what these hyperparameters mean for now.\n",
    "How does the best SVR predictor perform?"
   ]
  },
  {
   "cell_type": "code",
   "execution_count": 34,
   "metadata": {},
   "outputs": [],
   "source": [
    "# download data\n",
    "import os\n",
    "import tarfile\n",
    "import urllib.request\n",
    "DOWNLOAD_ROOT=\"https://raw.githubusercontent.com/ageron/handson-ml2/master/\"\n",
    "Houshing_path=os.path.join(\"datasets\",\"housing\")\n",
    "Houshing_url= DOWNLOAD_ROOT + \"datasets/housing/housing.tgz\"\n",
    "\n",
    "def fetch_houshing_data(houshing_url=Houshing_url,houshing_path=Houshing_path):\n",
    "    if not os.path.isdir(houshing_path):\n",
    "        os.makedirs(houshing_path)\n",
    "    tgz_path=os.path.join(houshing_path,\"housing.tgz\")\n",
    "    urllib.request.urlretrieve(houshing_url,tgz_path)\n",
    "    #convert rar to data\n",
    "    houshing_tgz=tarfile.open(tgz_path)\n",
    "    houshing_tgz.extractall(path=houshing_path)\n",
    "    houshing_tgz.close()\n"
   ]
  },
  {
   "cell_type": "code",
   "execution_count": 35,
   "metadata": {},
   "outputs": [],
   "source": [
    "#download file data\n",
    "fetch_houshing_data()"
   ]
  },
  {
   "cell_type": "code",
   "execution_count": 36,
   "metadata": {},
   "outputs": [],
   "source": [
    "#load data\n",
    "import pandas as pd\n",
    "def load_houshing_data(houshing_path=Houshing_path):\n",
    "    csv_path=os.path.join(houshing_path,\"housing.csv\")\n",
    "    return pd.read_csv(csv_path)"
   ]
  },
  {
   "cell_type": "code",
   "execution_count": 38,
   "metadata": {},
   "outputs": [
    {
     "data": {
      "text/html": [
       "<div>\n",
       "<style scoped>\n",
       "    .dataframe tbody tr th:only-of-type {\n",
       "        vertical-align: middle;\n",
       "    }\n",
       "\n",
       "    .dataframe tbody tr th {\n",
       "        vertical-align: top;\n",
       "    }\n",
       "\n",
       "    .dataframe thead th {\n",
       "        text-align: right;\n",
       "    }\n",
       "</style>\n",
       "<table border=\"1\" class=\"dataframe\">\n",
       "  <thead>\n",
       "    <tr style=\"text-align: right;\">\n",
       "      <th></th>\n",
       "      <th>longitude</th>\n",
       "      <th>latitude</th>\n",
       "      <th>housing_median_age</th>\n",
       "      <th>total_rooms</th>\n",
       "      <th>total_bedrooms</th>\n",
       "      <th>population</th>\n",
       "      <th>households</th>\n",
       "      <th>median_income</th>\n",
       "      <th>median_house_value</th>\n",
       "      <th>ocean_proximity</th>\n",
       "    </tr>\n",
       "  </thead>\n",
       "  <tbody>\n",
       "    <tr>\n",
       "      <th>0</th>\n",
       "      <td>-122.23</td>\n",
       "      <td>37.88</td>\n",
       "      <td>41.0</td>\n",
       "      <td>880.0</td>\n",
       "      <td>129.0</td>\n",
       "      <td>322.0</td>\n",
       "      <td>126.0</td>\n",
       "      <td>8.3252</td>\n",
       "      <td>452600.0</td>\n",
       "      <td>NEAR BAY</td>\n",
       "    </tr>\n",
       "    <tr>\n",
       "      <th>1</th>\n",
       "      <td>-122.22</td>\n",
       "      <td>37.86</td>\n",
       "      <td>21.0</td>\n",
       "      <td>7099.0</td>\n",
       "      <td>1106.0</td>\n",
       "      <td>2401.0</td>\n",
       "      <td>1138.0</td>\n",
       "      <td>8.3014</td>\n",
       "      <td>358500.0</td>\n",
       "      <td>NEAR BAY</td>\n",
       "    </tr>\n",
       "    <tr>\n",
       "      <th>2</th>\n",
       "      <td>-122.24</td>\n",
       "      <td>37.85</td>\n",
       "      <td>52.0</td>\n",
       "      <td>1467.0</td>\n",
       "      <td>190.0</td>\n",
       "      <td>496.0</td>\n",
       "      <td>177.0</td>\n",
       "      <td>7.2574</td>\n",
       "      <td>352100.0</td>\n",
       "      <td>NEAR BAY</td>\n",
       "    </tr>\n",
       "    <tr>\n",
       "      <th>3</th>\n",
       "      <td>-122.25</td>\n",
       "      <td>37.85</td>\n",
       "      <td>52.0</td>\n",
       "      <td>1274.0</td>\n",
       "      <td>235.0</td>\n",
       "      <td>558.0</td>\n",
       "      <td>219.0</td>\n",
       "      <td>5.6431</td>\n",
       "      <td>341300.0</td>\n",
       "      <td>NEAR BAY</td>\n",
       "    </tr>\n",
       "    <tr>\n",
       "      <th>4</th>\n",
       "      <td>-122.25</td>\n",
       "      <td>37.85</td>\n",
       "      <td>52.0</td>\n",
       "      <td>1627.0</td>\n",
       "      <td>280.0</td>\n",
       "      <td>565.0</td>\n",
       "      <td>259.0</td>\n",
       "      <td>3.8462</td>\n",
       "      <td>342200.0</td>\n",
       "      <td>NEAR BAY</td>\n",
       "    </tr>\n",
       "  </tbody>\n",
       "</table>\n",
       "</div>"
      ],
      "text/plain": [
       "   longitude  latitude  housing_median_age  total_rooms  total_bedrooms  \\\n",
       "0    -122.23     37.88                41.0        880.0           129.0   \n",
       "1    -122.22     37.86                21.0       7099.0          1106.0   \n",
       "2    -122.24     37.85                52.0       1467.0           190.0   \n",
       "3    -122.25     37.85                52.0       1274.0           235.0   \n",
       "4    -122.25     37.85                52.0       1627.0           280.0   \n",
       "\n",
       "   population  households  median_income  median_house_value ocean_proximity  \n",
       "0       322.0       126.0         8.3252            452600.0        NEAR BAY  \n",
       "1      2401.0      1138.0         8.3014            358500.0        NEAR BAY  \n",
       "2       496.0       177.0         7.2574            352100.0        NEAR BAY  \n",
       "3       558.0       219.0         5.6431            341300.0        NEAR BAY  \n",
       "4       565.0       259.0         3.8462            342200.0        NEAR BAY  "
      ]
     },
     "execution_count": 38,
     "metadata": {},
     "output_type": "execute_result"
    }
   ],
   "source": [
    "# test data\n",
    "housing =load_houshing_data()\n",
    "housing.head(5)"
   ]
  },
  {
   "cell_type": "code",
   "execution_count": 7,
   "metadata": {},
   "outputs": [
    {
     "name": "stdout",
     "output_type": "stream",
     "text": [
      "<class 'pandas.core.frame.DataFrame'>\n",
      "RangeIndex: 20640 entries, 0 to 20639\n",
      "Data columns (total 10 columns):\n",
      " #   Column              Non-Null Count  Dtype  \n",
      "---  ------              --------------  -----  \n",
      " 0   longitude           20640 non-null  float64\n",
      " 1   latitude            20640 non-null  float64\n",
      " 2   housing_median_age  20640 non-null  float64\n",
      " 3   total_rooms         20640 non-null  float64\n",
      " 4   total_bedrooms      20433 non-null  float64\n",
      " 5   population          20640 non-null  float64\n",
      " 6   households          20640 non-null  float64\n",
      " 7   median_income       20640 non-null  float64\n",
      " 8   median_house_value  20640 non-null  float64\n",
      " 9   ocean_proximity     20640 non-null  object \n",
      "dtypes: float64(9), object(1)\n",
      "memory usage: 1.6+ MB\n"
     ]
    }
   ],
   "source": [
    "#information of frame data\n",
    "housing.info()\n",
    "# total bedroms have nan value, and ocean must convert to numeric data"
   ]
  },
  {
   "cell_type": "code",
   "execution_count": 8,
   "metadata": {},
   "outputs": [
    {
     "data": {
      "text/plain": [
       "<1H OCEAN     9136\n",
       "INLAND        6551\n",
       "NEAR OCEAN    2658\n",
       "NEAR BAY      2290\n",
       "ISLAND           5\n",
       "Name: ocean_proximity, dtype: int64"
      ]
     },
     "execution_count": 8,
     "metadata": {},
     "output_type": "execute_result"
    }
   ],
   "source": [
    "# count the value if u want to convert !\n",
    "housing[\"ocean_proximity\"].value_counts()"
   ]
  },
  {
   "cell_type": "code",
   "execution_count": 9,
   "metadata": {},
   "outputs": [],
   "source": [
    "# data cleaning -> total_bedrooms \n",
    "housing[\"total_bedrooms\"].fillna(housing[\"total_bedrooms\"].mean(),inplace=True)"
   ]
  },
  {
   "cell_type": "code",
   "execution_count": 10,
   "metadata": {},
   "outputs": [
    {
     "name": "stdout",
     "output_type": "stream",
     "text": [
      "<class 'pandas.core.series.Series'>\n",
      "RangeIndex: 20640 entries, 0 to 20639\n",
      "Series name: total_bedrooms\n",
      "Non-Null Count  Dtype  \n",
      "--------------  -----  \n",
      "20640 non-null  float64\n",
      "dtypes: float64(1)\n",
      "memory usage: 161.4 KB\n"
     ]
    }
   ],
   "source": [
    "#cek the nan value\n",
    "housing[\"total_bedrooms\"].info()"
   ]
  },
  {
   "cell_type": "code",
   "execution_count": 11,
   "metadata": {},
   "outputs": [],
   "source": [
    "# convert to numeric value from ocean_proximity \n",
    "from sklearn.preprocessing import OneHotEncoder\n",
    "categorical_encoder = OneHotEncoder(sparse=False)#so lazy convert again from sparse matrix to array  \n",
    "housing[\"ocean_proximity\"]=categorical_encoder.fit_transform(housing[[\"ocean_proximity\"]])\n"
   ]
  },
  {
   "cell_type": "code",
   "execution_count": 12,
   "metadata": {},
   "outputs": [
    {
     "name": "stdout",
     "output_type": "stream",
     "text": [
      "<class 'pandas.core.series.Series'>\n",
      "RangeIndex: 20640 entries, 0 to 20639\n",
      "Series name: ocean_proximity\n",
      "Non-Null Count  Dtype  \n",
      "--------------  -----  \n",
      "20640 non-null  float64\n",
      "dtypes: float64(1)\n",
      "memory usage: 161.4 KB\n"
     ]
    }
   ],
   "source": [
    "# cek the categorical value convert to numerical value on ocean_proximity\n",
    "housing[\"ocean_proximity\"].info()"
   ]
  },
  {
   "cell_type": "code",
   "execution_count": 13,
   "metadata": {},
   "outputs": [
    {
     "name": "stdout",
     "output_type": "stream",
     "text": [
      "   longitude  latitude  housing_median_age  total_rooms  total_bedrooms  \\\n",
      "0    -122.23     37.88                41.0        880.0           129.0   \n",
      "1    -122.22     37.86                21.0       7099.0          1106.0   \n",
      "2    -122.24     37.85                52.0       1467.0           190.0   \n",
      "3    -122.25     37.85                52.0       1274.0           235.0   \n",
      "4    -122.25     37.85                52.0       1627.0           280.0   \n",
      "\n",
      "   population  households  median_income  median_house_value  ocean_proximity  \n",
      "0       322.0       126.0         8.3252            452600.0              0.0  \n",
      "1      2401.0      1138.0         8.3014            358500.0              0.0  \n",
      "2       496.0       177.0         7.2574            352100.0              0.0  \n",
      "3       558.0       219.0         5.6431            341300.0              0.0  \n",
      "4       565.0       259.0         3.8462            342200.0              0.0  \n"
     ]
    }
   ],
   "source": [
    "print(housing.head())"
   ]
  },
  {
   "cell_type": "code",
   "execution_count": 14,
   "metadata": {},
   "outputs": [],
   "source": [
    "# split the data fitur and label\n",
    "housing_prepared= housing.drop(\"median_house_value\",axis=1)\n",
    "housing_labels=housing[\"median_house_value\"].copy()"
   ]
  },
  {
   "cell_type": "code",
   "execution_count": 15,
   "metadata": {},
   "outputs": [
    {
     "name": "stdout",
     "output_type": "stream",
     "text": [
      "       longitude  latitude  housing_median_age  total_rooms  total_bedrooms  \\\n",
      "0        -122.23     37.88                41.0        880.0           129.0   \n",
      "1        -122.22     37.86                21.0       7099.0          1106.0   \n",
      "2        -122.24     37.85                52.0       1467.0           190.0   \n",
      "3        -122.25     37.85                52.0       1274.0           235.0   \n",
      "4        -122.25     37.85                52.0       1627.0           280.0   \n",
      "...          ...       ...                 ...          ...             ...   \n",
      "20635    -121.09     39.48                25.0       1665.0           374.0   \n",
      "20636    -121.21     39.49                18.0        697.0           150.0   \n",
      "20637    -121.22     39.43                17.0       2254.0           485.0   \n",
      "20638    -121.32     39.43                18.0       1860.0           409.0   \n",
      "20639    -121.24     39.37                16.0       2785.0           616.0   \n",
      "\n",
      "       population  households  median_income  ocean_proximity  \n",
      "0           322.0       126.0         8.3252              0.0  \n",
      "1          2401.0      1138.0         8.3014              0.0  \n",
      "2           496.0       177.0         7.2574              0.0  \n",
      "3           558.0       219.0         5.6431              0.0  \n",
      "4           565.0       259.0         3.8462              0.0  \n",
      "...           ...         ...            ...              ...  \n",
      "20635       845.0       330.0         1.5603              0.0  \n",
      "20636       356.0       114.0         2.5568              0.0  \n",
      "20637      1007.0       433.0         1.7000              0.0  \n",
      "20638       741.0       349.0         1.8672              0.0  \n",
      "20639      1387.0       530.0         2.3886              0.0  \n",
      "\n",
      "[20640 rows x 9 columns]\n"
     ]
    }
   ],
   "source": [
    "print(housing_prepared)"
   ]
  },
  {
   "cell_type": "code",
   "execution_count": 16,
   "metadata": {},
   "outputs": [
    {
     "name": "stdout",
     "output_type": "stream",
     "text": [
      "0        452600.0\n",
      "1        358500.0\n",
      "2        352100.0\n",
      "3        341300.0\n",
      "4        342200.0\n",
      "           ...   \n",
      "20635     78100.0\n",
      "20636     77100.0\n",
      "20637     92300.0\n",
      "20638     84700.0\n",
      "20639     89400.0\n",
      "Name: median_house_value, Length: 20640, dtype: float64\n"
     ]
    }
   ],
   "source": [
    "print(housing_labels)"
   ]
  },
  {
   "cell_type": "code",
   "execution_count": 17,
   "metadata": {},
   "outputs": [],
   "source": [
    "from sklearn.model_selection import GridSearchCV\n",
    "from sklearn.svm import SVR\n",
    "# tuning hyperparameter with Grid_search \n",
    "param_grid=[\n",
    "    {\"kernel\":[\"linear\"], \"C\":[10.,30.,100.,300.,1000.,3000.,10000.,30000.]},\n",
    "    {\"kernel\":[\"rbf\"], \"C\":[1.0,3.0,10.,3.0,100.,300.,1000.,3000.,10000.,30000.],\n",
    "     \"gamma\":[0.01,0.03,0.1,0.3,1.,3.,10.,30.]},\n",
    "]\n",
    "svm_reg = SVR()\n",
    "grid_search=GridSearchCV(svm_reg,param_grid,scoring=\"neg_mean_squared_error\",cv=5,verbose=2)\n",
    "grid_search.fit(housing_prepared,housing_labels)\n",
    "#best parameter by tuning\n",
    "grid_search.best_params_\n",
    "# {'C': 30000.0, 'kernel': 'linear'}"
   ]
  },
  {
   "cell_type": "markdown",
   "metadata": {},
   "source": [
    "# question 2\n",
    "make tuning hyperparameter with randomizedsearchcv"
   ]
  },
  {
   "cell_type": "code",
   "execution_count": 18,
   "metadata": {},
   "outputs": [
    {
     "name": "stdout",
     "output_type": "stream",
     "text": [
      "Fitting 3 folds for each of 5 candidates, totalling 15 fits\n"
     ]
    }
   ],
   "source": [
    "# use tuning hyperparamter with randomized search cv\n",
    "from sklearn.model_selection import RandomizedSearchCV\n",
    "from scipy.stats import expon, reciprocal\n",
    "from sklearn.svm import SVR\n",
    "param_distribs={\n",
    "    \"kernel\":[\"linear\",\"rbf\"],\n",
    "    \"C\" : reciprocal(20, 200000),\n",
    "    \"gamma\": expon(scale=1.0),    \n",
    "}\n",
    "svm_reg_2=SVR()\n",
    "rnd_search=RandomizedSearchCV(svm_reg_2,param_distribs,n_iter=5,cv=3,scoring=\"neg_mean_squared_error\",verbose=2,random_state=42)\n",
    "rnd_search.fit(housing_prepared,housing_labels)\n",
    "rnd_search.best_params_\n",
    "# 'C': 157055.10989448498, 'gamma': 0.26497040005002437, 'kernel': 'rbf'}"
   ]
  },
  {
   "cell_type": "code",
   "execution_count": 6,
   "metadata": {},
   "outputs": [
    {
     "name": "stdout",
     "output_type": "stream",
     "text": [
      "[0.46926809 3.01012143 1.31674569 ... 2.93196746 0.50664768 0.24480191]\n"
     ]
    }
   ],
   "source": [
    "from scipy.stats import expon, reciprocal\n",
    "expon_distrib=expon(scale=1.)\n",
    "samples=expon_distrib.rvs(10000,random_state=42)#generate random variate from normal distributions\n",
    "print(samples)\n"
   ]
  },
  {
   "cell_type": "code",
   "execution_count": 13,
   "metadata": {},
   "outputs": [
    {
     "data": {
      "image/png": "[encoded data removed]",
      "text/plain": [
       "<Figure size 720x432 with 2 Axes>"
      ]
     },
     "metadata": {
      "needs_background": "light"
     },
     "output_type": "display_data"
    }
   ],
   "source": [
    "#visualisasi data\n",
    "import matplotlib.pyplot as plt\n",
    "import numpy as np\n",
    "plt.figure(figsize=(10,6))\n",
    "plt.subplot(121)\n",
    "plt.title(\"Exponential distribution (scale=1.0\")\n",
    "plt.hist(samples,bins=100)\n",
    "plt.subplot(122)\n",
    "plt.title(\"Log of this distribution\")\n",
    "plt.hist(np.log(samples),bins=100)\n",
    "plt.show()\n"
   ]
  },
  {
   "cell_type": "markdown",
   "metadata": {},
   "source": [
    "so use log is get full expon distrbut with rvs but if use expon(scale=1.) then the result is 1/2 from distibut can got."
   ]
  },
  {
   "cell_type": "markdown",
   "metadata": {},
   "source": [
    "The distribution we used for `C` looks quite different: the scale of the samples is picked from a uniform distribution within a given range, which is why the right graph, which represents the log of the samples, looks roughly constant. This distribution is useful when you don't have a clue of what the target scale is:"
   ]
  },
  {
   "cell_type": "code",
   "execution_count": 17,
   "metadata": {},
   "outputs": [
    {
     "data": {
      "image/png": "[encoded data removed]",
      "text/plain": [
       "<Figure size 720x432 with 2 Axes>"
      ]
     },
     "metadata": {
      "needs_background": "light"
     },
     "output_type": "display_data"
    }
   ],
   "source": [
    "reciprocal_distrib=reciprocal(20,200000)\n",
    "samples=reciprocal_distrib.rvs(10000,random_state=42)\n",
    "plt.figure(figsize=(10,6))\n",
    "plt.subplot(121)\n",
    "plt.title(\"REciprocal distribution (scale\")\n",
    "plt.hist(samples,bins=100)\n",
    "plt.subplot(122)\n",
    "plt.title(\"Log of this distribution\")\n",
    "plt.hist(np.log(samples),bins=100)\n",
    "plt.show()"
   ]
  },
  {
   "cell_type": "markdown",
   "metadata": {},
   "source": [
    "The reciprocal distribution is useful when you have no idea what the scale of the hyperparameter should be (indeed, as you can see on the figure on the right, all scales are equally likely, within the given range), whereas the exponential distribution is best when you know (more or less) what the scale of the hyperparameter should be."
   ]
  },
  {
   "cell_type": "markdown",
   "metadata": {},
   "source": [
    "# Question 3\n",
    "Try adding a transformer in the preparation pipeline to select only the most\n",
    "important attributes."
   ]
  },
  {
   "cell_type": "code",
   "execution_count": 26,
   "metadata": {},
   "outputs": [],
   "source": [
    "from sklearn.base import BaseEstimator, TransformerMixin\n",
    "\n",
    "def indices_of_top_k(arr,k):\n",
    "    return np.sort(np.argpartition(np.array(arr), -k) [-k:])\n",
    "\n",
    "class TopFeatureSelector(BaseEstimator,TransformerMixin):\n",
    "    def __init__(self,feature_importance,k):\n",
    "        self.feature_importances=feature_importances\n",
    "        self.k=k\n",
    "    def fit(self,X,y=None):\n",
    "        self.feature_indices=indices_of_top_k(self.feature_importances,self.k)\n",
    "        return self\n",
    "    def transform(self,X):\n",
    "        return X[:,self.feature_indices]\n"
   ]
  },
  {
   "cell_type": "code",
   "execution_count": 29,
   "metadata": {},
   "outputs": [
    {
     "data": {
      "text/plain": [
       "['longitude', 'latitude', 'median_income', 'pop_per_hhold', 'INLAND']"
      ]
     },
     "execution_count": 29,
     "metadata": {},
     "output_type": "execute_result"
    }
   ],
   "source": [
    "#define numbers of top features want to keep:\n",
    "# feature_importances=rnd_search.best_estimator_.feature_importances_\n",
    "feature_importances=[7.33442355e-02, 6.29090705e-02, 4.11437985e-02, 1.46726854e-02,\n",
    "       1.41064835e-02, 1.48742809e-02, 1.42575993e-02, 3.66158981e-01,\n",
    "       5.64191792e-02, 1.08792957e-01, 5.33510773e-02, 1.03114883e-02,\n",
    "       1.64780994e-01, 6.02803867e-05, 1.96041560e-03, 2.85647464e-03]\n",
    "k=5\n",
    "top_k_feature_indices=indices_of_top_k(feature_importances,k)\n",
    "top_k_feature_indices\n",
    "atributes=['longitude', 'latitude', 'median_income', 'pop_per_hhold',\n",
    "       'INLAND']\n"
   ]
  },
  {
   "cell_type": "code",
   "execution_count": 32,
   "metadata": {},
   "outputs": [
    {
     "data": {
      "text/plain": [
       "[(0.0733442355, 'longitude'),\n",
       " (0.0629090705, 'latitude'),\n",
       " (0.0411437985, 'median_income'),\n",
       " (0.0146726854, 'pop_per_hhold'),\n",
       " (0.0141064835, 'INLAND')]"
      ]
     },
     "execution_count": 32,
     "metadata": {},
     "output_type": "execute_result"
    }
   ],
   "source": [
    "sorted(zip(feature_importances,atributes),reverse=True)[:k]"
   ]
  }
 ],
 "metadata": {
  "interpreter": {
   "hash": "7a5456659e538ee3cddfcad4c66e6fbc387a1d4099812e9081b37ac40f8a3f09"
  },
  "kernelspec": {
   "display_name": "Python 3.10.1 64-bit ('env': venv)",
   "language": "python",
   "name": "python3"
  },
  "language_info": {
   "codemirror_mode": {
    "name": "ipython",
    "version": 3
   },
   "file_extension": ".py",
   "mimetype": "text/x-python",
   "name": "python",
   "nbconvert_exporter": "python",
   "pygments_lexer": "ipython3",
   "version": "3.9.9"
  },
  "orig_nbformat": 4
 },
 "nbformat": 4,
 "nbformat_minor": 2
}
